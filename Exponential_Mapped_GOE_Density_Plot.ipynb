{
 "cells": [
  {
   "cell_type": "code",
   "execution_count": 1,
   "id": "b4233f37",
   "metadata": {},
   "outputs": [
    {
     "ename": "ModuleNotFoundError",
     "evalue": "No module named 'mayavi'",
     "output_type": "error",
     "traceback": [
      "\u001b[0;31m---------------------------------------------------------------------------\u001b[0m",
      "\u001b[0;31mModuleNotFoundError\u001b[0m                       Traceback (most recent call last)",
      "Cell \u001b[0;32mIn [1], line 1\u001b[0m\n\u001b[0;32m----> 1\u001b[0m \u001b[38;5;28;01mimport\u001b[39;00m \u001b[38;5;21;01mmayavi\u001b[39;00m\n\u001b[1;32m      2\u001b[0m \u001b[38;5;28;01mimport\u001b[39;00m \u001b[38;5;21;01mnumpy\u001b[39;00m \u001b[38;5;28;01mas\u001b[39;00m \u001b[38;5;21;01mnp\u001b[39;00m\n\u001b[1;32m      3\u001b[0m \u001b[38;5;28;01mimport\u001b[39;00m \u001b[38;5;21;01mscipy\u001b[39;00m\n",
      "\u001b[0;31mModuleNotFoundError\u001b[0m: No module named 'mayavi'"
     ]
    }
   ],
   "source": [
    "import mayavi\n",
    "import numpy as np\n",
    "import scipy\n",
    "from numpy import linalg as la\n",
    "from scipy import linalg\n",
    "from mayavi import mlab"
   ]
  },
  {
   "cell_type": "code",
   "execution_count": 13,
   "id": "53a12c42",
   "metadata": {},
   "outputs": [],
   "source": [
    "''' Joint Element Density of 2x2 B = exp(A) where A = [[a, c], [c, b]] and is sampled from the GOE(2)'''\n",
    "''' Obtained via a change of variables for the inverse trnasformation (B -> logB = A) on the known density of A ~ GOE '''\n",
    "\n",
    "'''Jacobian of inverse transformation can be found in Schwartzman: \n",
    "Lognormal Distributions and Geometric Averages of Symmetric Positive Definite Matrices'''\n",
    "\n",
    "def g(lambdai, lambdaj):\n",
    "    \n",
    "    '''Function of the spectrum of B = exp(A): lambda_B = exp(lambda_A)'''\n",
    "    \n",
    "    if lambdai == lambdaj:\n",
    "        return 1 / lambdai\n",
    "    elif lambdai != lambdaj:\n",
    "        if lambdai > lambdaj:\n",
    "            return (np.log(lambdai) - np.log(lambdaj)) / (lambdai - lambdaj)\n",
    "        elif lambdaj > lambdai:\n",
    "            return (np.log(lambdaj) - np.log(lambdai)) / (lambdaj - lambdai)\n",
    "    \n",
    "def f(a,b,c):\n",
    "    \n",
    "    A = np.asarray([[a, c], \n",
    "                    [c, b]])\n",
    "    \n",
    "    B = scipy.linalg.expm(A)\n",
    "    \n",
    "    eigs = la.eigvalsh(B)\n",
    "    \n",
    "    #reciprocal of determinant of B\n",
    "    J_1 = 1 / la.det(B)\n",
    "    #function of spectrum\n",
    "    J_2 = g(eigs[0], eigs[1])\n",
    "    #together these terms make up the Jacobian of the transformation\n",
    "    J = J_1 * J_2\n",
    "    \n",
    "    frb_nrm = la.norm(scipy.linalg.logm(B), ord = 'fro')\n",
    "    \n",
    "    \n",
    "    return J * 1/(np.sqrt(4 * np.pi**3)) * np.exp(-frb_nrm/2)\n",
    "    "
   ]
  },
  {
   "cell_type": "code",
   "execution_count": 14,
   "id": "cda98441",
   "metadata": {},
   "outputs": [
    {
     "name": "stderr",
     "output_type": "stream",
     "text": [
      "libpng warning: iCCP: known incorrect sRGB profile\n"
     ]
    }
   ],
   "source": [
    "'''Given the density, we wish to construct a 3D density plot to visualize the transformation of the exponential mapping'''\n",
    "\n",
    "\n",
    "\n",
    "nrepeat = 20000 \n",
    "mu, sigma = 0, 1\n",
    "density = np.zeros(nrepeat)\n",
    "a = np.random.normal(mu, sigma, nrepeat)\n",
    "b = np.random.normal(mu, sigma, nrepeat)\n",
    "c = np.random.normal(mu, sigma/2, nrepeat)\n",
    "\n",
    "x = np.zeros(nrepeat)\n",
    "y = np.zeros(nrepeat)\n",
    "z = np.zeros(nrepeat)\n",
    "\n",
    "\n",
    "for i in range(nrepeat):\n",
    "    \n",
    "    density[i] = (f(a[i],b[i],c[i]))\n",
    "    \n",
    "    A = np.asarray([[a[i], c[i]], [c[i], b[i]]])\n",
    "    B = scipy.linalg.expm(A)\n",
    "    \n",
    "    x[i] = B[0,0]\n",
    "    y[i] = B[1,1]\n",
    "    z[i] = B[0,1]\n",
    "\n",
    "# Plot scatter with mayavi\n",
    "figure = mlab.figure('DensityPlot')\n",
    "pts = mlab.points3d(x, y, z, density, scale_mode='none', scale_factor=0.07) #\n",
    "mask = pts.glyph.mask_points\n",
    "mask.maximum_number_of_points = x.size\n",
    "mask.on_ratio = 1\n",
    "pts.glyph.mask_input_points = True\n",
    "\n",
    "figure.scene.disable_render = False \n",
    "mlab.axes()\n",
    "mlab.show()\n"
   ]
  },
  {
   "cell_type": "code",
   "execution_count": 11,
   "id": "d5b0a962",
   "metadata": {},
   "outputs": [
    {
     "ename": "NameError",
     "evalue": "name 'xmin' is not defined",
     "output_type": "error",
     "traceback": [
      "\u001b[0;31m---------------------------------------------------------------------------\u001b[0m",
      "\u001b[0;31mNameError\u001b[0m                                 Traceback (most recent call last)",
      "\u001b[0;32m/var/folders/tl/2y86bxr91_gck1scgxj8xvnc0000gn/T/ipykernel_1300/2685924440.py\u001b[0m in \u001b[0;36m<module>\u001b[0;34m\u001b[0m\n\u001b[1;32m     20\u001b[0m \u001b[0mamin\u001b[0m\u001b[0;34m,\u001b[0m \u001b[0mbmin\u001b[0m\u001b[0;34m,\u001b[0m \u001b[0mcmin\u001b[0m \u001b[0;34m=\u001b[0m \u001b[0ma\u001b[0m\u001b[0;34m.\u001b[0m\u001b[0mmin\u001b[0m\u001b[0;34m(\u001b[0m\u001b[0;34m)\u001b[0m\u001b[0;34m,\u001b[0m \u001b[0mb\u001b[0m\u001b[0;34m.\u001b[0m\u001b[0mmin\u001b[0m\u001b[0;34m(\u001b[0m\u001b[0;34m)\u001b[0m\u001b[0;34m,\u001b[0m \u001b[0mc\u001b[0m\u001b[0;34m.\u001b[0m\u001b[0mmin\u001b[0m\u001b[0;34m(\u001b[0m\u001b[0;34m)\u001b[0m\u001b[0;34m\u001b[0m\u001b[0;34m\u001b[0m\u001b[0m\n\u001b[1;32m     21\u001b[0m \u001b[0mamax\u001b[0m\u001b[0;34m,\u001b[0m \u001b[0mbmax\u001b[0m\u001b[0;34m,\u001b[0m \u001b[0mcmax\u001b[0m \u001b[0;34m=\u001b[0m \u001b[0ma\u001b[0m\u001b[0;34m.\u001b[0m\u001b[0mmax\u001b[0m\u001b[0;34m(\u001b[0m\u001b[0;34m)\u001b[0m\u001b[0;34m,\u001b[0m \u001b[0mb\u001b[0m\u001b[0;34m.\u001b[0m\u001b[0mmax\u001b[0m\u001b[0;34m(\u001b[0m\u001b[0;34m)\u001b[0m\u001b[0;34m,\u001b[0m \u001b[0mc\u001b[0m\u001b[0;34m.\u001b[0m\u001b[0mmax\u001b[0m\u001b[0;34m(\u001b[0m\u001b[0;34m)\u001b[0m\u001b[0;34m\u001b[0m\u001b[0;34m\u001b[0m\u001b[0m\n\u001b[0;32m---> 22\u001b[0;31m \u001b[0mai\u001b[0m\u001b[0;34m,\u001b[0m \u001b[0mbi\u001b[0m\u001b[0;34m,\u001b[0m \u001b[0mci\u001b[0m \u001b[0;34m=\u001b[0m \u001b[0mnp\u001b[0m\u001b[0;34m.\u001b[0m\u001b[0mmgrid\u001b[0m\u001b[0;34m[\u001b[0m\u001b[0mxmin\u001b[0m\u001b[0;34m:\u001b[0m\u001b[0mxmax\u001b[0m\u001b[0;34m:\u001b[0m\u001b[0;36m30j\u001b[0m\u001b[0;34m,\u001b[0m \u001b[0mymin\u001b[0m\u001b[0;34m:\u001b[0m\u001b[0mymax\u001b[0m\u001b[0;34m:\u001b[0m\u001b[0;36m30j\u001b[0m\u001b[0;34m,\u001b[0m \u001b[0mzmin\u001b[0m\u001b[0;34m:\u001b[0m\u001b[0mzmax\u001b[0m\u001b[0;34m:\u001b[0m\u001b[0;36m30j\u001b[0m\u001b[0;34m]\u001b[0m\u001b[0;34m\u001b[0m\u001b[0;34m\u001b[0m\u001b[0m\n\u001b[0m\u001b[1;32m     23\u001b[0m \u001b[0mcoords\u001b[0m \u001b[0;34m=\u001b[0m \u001b[0;34m[\u001b[0m\u001b[0mitem\u001b[0m\u001b[0;34m.\u001b[0m\u001b[0mravel\u001b[0m\u001b[0;34m(\u001b[0m\u001b[0;34m)\u001b[0m \u001b[0;32mfor\u001b[0m \u001b[0mitem\u001b[0m \u001b[0;32min\u001b[0m \u001b[0;34m[\u001b[0m\u001b[0mxi\u001b[0m\u001b[0;34m,\u001b[0m \u001b[0myi\u001b[0m\u001b[0;34m,\u001b[0m \u001b[0mzi\u001b[0m\u001b[0;34m]\u001b[0m\u001b[0;34m]\u001b[0m\u001b[0;34m\u001b[0m\u001b[0;34m\u001b[0m\u001b[0m\n\u001b[1;32m     24\u001b[0m \u001b[0mdensity_2\u001b[0m \u001b[0;34m=\u001b[0m \u001b[0mf\u001b[0m\u001b[0;34m(\u001b[0m\u001b[0mcoords\u001b[0m\u001b[0;34m)\u001b[0m\u001b[0;34m\u001b[0m\u001b[0;34m\u001b[0m\u001b[0m\n",
      "\u001b[0;31mNameError\u001b[0m: name 'xmin' is not defined"
     ]
    }
   ],
   "source": [
    "'''Compare to GOE density function'''\n",
    "\n",
    "def h(a,b,c):\n",
    "    \n",
    "    frb_nrm = (abs(a)**2 + abs(b)**2 + 2*abs(c)**2)\n",
    "    \n",
    "    return 1/(np.sqrt(4 * np.pi**3)) * np.exp(-(frb_nrm)/2)\n",
    "\n",
    "density_2 = np.zeros(nrepeat)\n",
    "\n",
    "for i in range(nrepeat):\n",
    "    density_2[i] = (h(a[i], b[i], c[i]))\n",
    "\n",
    "figure = mlab.figure('DensityPlot')\n",
    "pts = mlab.points3d(a, b, c, density, scale_mode='none', scale_factor=0.07)\n",
    "mlab.axes()\n",
    "mlab.show()"
   ]
  },
  {
   "cell_type": "code",
   "execution_count": null,
   "id": "35b2381a",
   "metadata": {},
   "outputs": [],
   "source": []
  }
 ],
 "metadata": {
  "kernelspec": {
   "display_name": "Python 3 (ipykernel)",
   "language": "python",
   "name": "python3"
  },
  "language_info": {
   "codemirror_mode": {
    "name": "ipython",
    "version": 3
   },
   "file_extension": ".py",
   "mimetype": "text/x-python",
   "name": "python",
   "nbconvert_exporter": "python",
   "pygments_lexer": "ipython3",
   "version": "3.9.13"
  }
 },
 "nbformat": 4,
 "nbformat_minor": 5
}
